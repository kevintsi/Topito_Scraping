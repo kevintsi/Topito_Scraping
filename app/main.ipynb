{
 "cells": [
  {
   "cell_type": "markdown",
   "metadata": {},
   "source": [
    "# Scraping Topito Top 10 des mangas les plus vendus"
   ]
  },
  {
   "cell_type": "code",
   "execution_count": 36,
   "metadata": {},
   "outputs": [],
   "source": [
    "# Import des librairies \n",
    "import requests # Pour récupérer le code source de la page\n",
    "from bs4 import BeautifulSoup # Pour scraper les données\n",
    "from models.Manga import Manga # Import classe Manga\n",
    "import pandas as pd\n",
    "import matplotlib.pyplot as plot"
   ]
  },
  {
   "cell_type": "code",
   "execution_count": 72,
   "metadata": {},
   "outputs": [],
   "source": [
    "# Récupère le code source et le sauvegarde dans une variable (request_text)\n",
    "request_text = requests.get(\"https://www.topito.com/top-manga-vente-monde-temps\")\n",
    "\n",
    "# Instancie BeautifulSoup avec le request_text\n",
    "soup = BeautifulSoup(request_text.content, \"html.parser\")\n"
   ]
  },
  {
   "cell_type": "code",
   "execution_count": 71,
   "metadata": {},
   "outputs": [
    {
     "data": {
      "text/plain": [
       "[<div class=\"item\">\n",
       " <h2 class=\"item-title\">1. <a href=\"https://www.appbubble.co/one-piece/serie/mo7s7gN92z#ae5\" target=\"_blank\">One Piece</a> (460 millions de ventes)</h2>\n",
       " <p>Notre numéro 1 à tous. Meilleur manga jamais paru. Surtout cette année avec des scans de folie, notamment le <a href=\"https://www.topito.com/top-meilleur-tweet-one-piece-chapitre-957\">chapitre 957</a>, qui m’a terminé. One Piece c’est un bijou, et le jour où on arrivera à la fin, je ne sais pas ce que je ferai de ma vie.</p>\n",
       " <figure class=\"ziofix-credit\"><img alt=\"\" class=\"attachment-600x size-600x lazyload\" data-src=\"https://media.topito.com/wp-content/uploads/2020/01/one-20piece-20serie-20hollywood-59722f8294597-600x330.png\" data-srcset=\"https://media.topito.com/wp-content/uploads/2020/01/one-20piece-20serie-20hollywood-59722f8294597-600x330.png 600w, https://media.topito.com/wp-content/uploads/2020/01/one-20piece-20serie-20hollywood-59722f8294597-300x165.png 300w, https://media.topito.com/wp-content/uploads/2020/01/one-20piece-20serie-20hollywood-59722f8294597-485x267.png 485w, https://media.topito.com/wp-content/uploads/2020/01/one-20piece-20serie-20hollywood-59722f8294597.png 700w\" height=\"330\" loading=\"lazy\" sizes=\"(max-width: 600px) 100vw, 600px\" src=\"\" srcset=\"\" width=\"600\"/></figure>\n",
       " </div>,\n",
       " <div class=\"item\">\n",
       " <h2 class=\"item-title\">2. <a href=\"https://www.appbubble.co/search?q=dragon%20%20ball#ae5\" target=\"_blank\">Dragon Ball</a> (300 millions de ventes)</h2>\n",
       " <p>Dragon Ball était une série terminée (Goku qui balance un Genkidama sur Buu) avant que Dragon Ball Super apparaissent. Même si ce n’est plus dessiné par notre Empereur Toriyama, DBS n’en reste pas moins une excellente oeuvre qui mérite d’être lue, surtout pour le tournoi du multiverse.</p>\n",
       " <figure class=\"ziofix-credit\"><img alt=\"\" class=\"attachment-600x size-600x lazyload\" data-src=\"https://media.topito.com/wp-content/uploads/2020/01/Yamcha_Reincarnated_vs_Vegeta-3-1280x720-600x338.png\" data-srcset=\"https://media.topito.com/wp-content/uploads/2020/01/Yamcha_Reincarnated_vs_Vegeta-3-1280x720-600x338.png 600w, https://media.topito.com/wp-content/uploads/2020/01/Yamcha_Reincarnated_vs_Vegeta-3-1280x720-300x169.png 300w, https://media.topito.com/wp-content/uploads/2020/01/Yamcha_Reincarnated_vs_Vegeta-3-1280x720-1024x576.png 1024w, https://media.topito.com/wp-content/uploads/2020/01/Yamcha_Reincarnated_vs_Vegeta-3-1280x720-768x432.png 768w, https://media.topito.com/wp-content/uploads/2020/01/Yamcha_Reincarnated_vs_Vegeta-3-1280x720-485x273.png 485w, https://media.topito.com/wp-content/uploads/2020/01/Yamcha_Reincarnated_vs_Vegeta-3-1280x720.png 1280w\" height=\"338\" loading=\"lazy\" sizes=\"(max-width: 600px) 100vw, 600px\" src=\"\" srcset=\"\" width=\"600\"/></figure>\n",
       " </div>,\n",
       " <div class=\"item\">\n",
       " <h2 class=\"item-title\">3. <a href=\"https://www.appbubble.co/search?q=golgo%2013#ae5\" target=\"_blank\">Golgo 13</a> (280 millions de ventes)</h2>\n",
       " <p>Voilà un manga que je n’ai pas lu. Golgo 13, c’est l’histoire d’un assassin (Duke Togo) qui est le meilleur dans sa catégorie. Il enchaîne les missions à travers 191 tomes, donc si tu souhaites les acheter, dis au revoir à ton compte épargne.</p>\n",
       " <figure class=\"ziofix-credit\"><img alt=\"\" class=\"attachment-600x size-600x lazyload\" data-src=\"https://media.topito.com/wp-content/uploads/2020/01/golgo2-600x433.jpg\" data-srcset=\"https://media.topito.com/wp-content/uploads/2020/01/golgo2-600x433.jpg 600w, https://media.topito.com/wp-content/uploads/2020/01/golgo2-300x217.jpg 300w, https://media.topito.com/wp-content/uploads/2020/01/golgo2-1024x739.jpg 1024w, https://media.topito.com/wp-content/uploads/2020/01/golgo2-768x554.jpg 768w, https://media.topito.com/wp-content/uploads/2020/01/golgo2-485x350.jpg 485w, https://media.topito.com/wp-content/uploads/2020/01/golgo2.jpg 1280w\" height=\"433\" loading=\"lazy\" sizes=\"(max-width: 600px) 100vw, 600px\" src=\"\" srcset=\"\" width=\"600\"/></figure>\n",
       " </div>,\n",
       " <div class=\"item\">\n",
       " <h2 class=\"item-title\">4. <a href=\"https://www.appbubble.co/search?q=naruto#ae5\" target=\"_blank\">Naruto</a> (250 millions de ventes)</h2>\n",
       " <p>Même si vous ne voulez pas mon avis perso sur Naruto, je vous le donne : j’ai adoré la période avant Shippûden. Les examens de ninja, les débuts du Taijutsu et du Genjutsu, le combat Gaara VS Lee, et ce final Naruto VS Sasuke si émouvant. Les débuts de Shippûden étaient cool aussi, mais c’est la grande guerre où j’ai lâché. Trop de résurrections.</p>\n",
       " <figure class=\"ziofix-credit\"><img alt=\"\" class=\"attachment-600x size-600x lazyload\" data-src=\"https://media.topito.com/wp-content/uploads/2020/01/957959007feab1cf29807db55bc92caf.png\" data-srcset=\"https://media.topito.com/wp-content/uploads/2020/01/957959007feab1cf29807db55bc92caf.png 472w, https://media.topito.com/wp-content/uploads/2020/01/957959007feab1cf29807db55bc92caf-257x300.png 257w\" height=\"551\" loading=\"lazy\" sizes=\"(max-width: 472px) 100vw, 472px\" src=\"\" srcset=\"\" width=\"472\"/></figure>\n",
       " </div>,\n",
       " <div class=\"item\">\n",
       " <h2 class=\"item-title\">5. <a href=\"https://www.appbubble.co/search?q=Détective%20Conan#ae5\" target=\"_blank\">Détective Conan</a> (230 millions de ventes)</h2>\n",
       " <p>97 volumes à se farcir pour suivre les aventures de l’enfant le plus intelligent du monde (en réalité il a 17 ans vous le savez). Perso j’ai suivi l’anime, mais comme à cette époque Arlong faisait du mal à Nami sur Europe 2 TV, j’ai fait mon choix.</p>\n",
       " <figure class=\"ziofix-credit\"><img alt=\"\" class=\"attachment-600x size-600x lazyload\" data-src=\"https://media.topito.com/wp-content/uploads/2020/01/9240_t8-600x461.jpg\" data-srcset=\"https://media.topito.com/wp-content/uploads/2020/01/9240_t8-600x461.jpg 600w, https://media.topito.com/wp-content/uploads/2020/01/9240_t8-300x230.jpg 300w, https://media.topito.com/wp-content/uploads/2020/01/9240_t8-768x589.jpg 768w, https://media.topito.com/wp-content/uploads/2020/01/9240_t8-485x372.jpg 485w, https://media.topito.com/wp-content/uploads/2020/01/9240_t8.jpg 800w\" height=\"461\" loading=\"lazy\" sizes=\"(max-width: 600px) 100vw, 600px\" src=\"\" srcset=\"\" width=\"600\"/></figure>\n",
       " </div>,\n",
       " <div class=\"item\">\n",
       " <h2 class=\"item-title\">6. <a href=\"https://www.appbubble.co/search?q=Black%20Jack#ae5\" target=\"_blank\">Black Jack</a> (176 millions de ventes)</h2>\n",
       " <p>Black Jack est un bébé de Osamu Tezuka, le grand-père du manga. Vous le connaissez peut-être car il est l’auteur de Astro, le petit robot, Le Roi Léo, L’Histoire des 3 Adolf et Bouddha. Black Jack est son oeuvre la plus vendue. 17 tomes de pur délice où on suit un médecin qui décide de soigner tout le monde indépendamment de la moralité de la victime. Je vous le conseille fortement.</p>\n",
       " <figure class=\"ziofix-credit\"><img alt=\"\" class=\"attachment-600x size-600x lazyload\" data-src=\"https://media.topito.com/wp-content/uploads/2020/01/PlancheA_33673-600x461.jpg\" data-srcset=\"https://media.topito.com/wp-content/uploads/2020/01/PlancheA_33673-600x461.jpg 600w, https://media.topito.com/wp-content/uploads/2020/01/PlancheA_33673-300x230.jpg 300w, https://media.topito.com/wp-content/uploads/2020/01/PlancheA_33673-768x590.jpg 768w, https://media.topito.com/wp-content/uploads/2020/01/PlancheA_33673-485x373.jpg 485w, https://media.topito.com/wp-content/uploads/2020/01/PlancheA_33673.jpg 850w\" height=\"461\" loading=\"lazy\" sizes=\"(max-width: 600px) 100vw, 600px\" src=\"\" srcset=\"\" width=\"600\"/></figure>\n",
       " </div>,\n",
       " <div class=\"item\">\n",
       " <h2 class=\"item-title\">7. Kochira Katsushika-ku Kameari koen mae hashutsujo (157 millions de ventes)</h2>\n",
       " <p>Ce manga c’est une sitcom. Le titre signifie « Ceci est la station de police devant le parc de Kameari de l’arrondissement de Katsushika », ce qui est plutôt stylé pour un titre. 200 tomes où on suit les aventures d’un policier paresseux et pervers à qui il arrive pas mal d’embrouilles. Chaque aventure est indépendante, il n’y a pas de fil rouge.</p>\n",
       " <figure class=\"ziofix-credit\"><img alt=\"\" class=\"attachment-600x size-600x lazyload\" data-src=\"https://media.topito.com/wp-content/uploads/2020/01/DJzV4XSXkAA-9KP.jpg\" data-srcset=\"https://media.topito.com/wp-content/uploads/2020/01/DJzV4XSXkAA-9KP.jpg 564w, https://media.topito.com/wp-content/uploads/2020/01/DJzV4XSXkAA-9KP-300x180.jpg 300w, https://media.topito.com/wp-content/uploads/2020/01/DJzV4XSXkAA-9KP-208x125.jpg 208w, https://media.topito.com/wp-content/uploads/2020/01/DJzV4XSXkAA-9KP-250x150.jpg 250w, https://media.topito.com/wp-content/uploads/2020/01/DJzV4XSXkAA-9KP-485x291.jpg 485w\" height=\"338\" loading=\"lazy\" sizes=\"(max-width: 564px) 100vw, 564px\" src=\"\" srcset=\"\" width=\"564\"/></figure>\n",
       " </div>,\n",
       " <div class=\"item\">\n",
       " <h2 class=\"item-title\">8. <a href=\"https://amzn.to/2Sn5aYf\" target=\"_blank\">Oishinbo</a> (130 millions de ventes)</h2>\n",
       " <p>Mange de bouffe numéro 1 sur cette planète. Si tu veux apprendre des recettes compliquées tout en sachant pas manier un couteau, alors va sur Marmiton ce sera plus simple. Sinon, lis les 110 tomes de cette œuvres qui t’apprendre à faire des sushis. </p>\n",
       " <figure class=\"ziofix-credit\"><img alt=\"\" class=\"attachment-600x size-600x lazyload\" data-src=\"https://media.topito.com/wp-content/uploads/2020/01/p1-oishinbo-a-20140520-870x635-600x438.jpg\" data-srcset=\"https://media.topito.com/wp-content/uploads/2020/01/p1-oishinbo-a-20140520-870x635-600x438.jpg 600w, https://media.topito.com/wp-content/uploads/2020/01/p1-oishinbo-a-20140520-870x635-300x219.jpg 300w, https://media.topito.com/wp-content/uploads/2020/01/p1-oishinbo-a-20140520-870x635-768x561.jpg 768w, https://media.topito.com/wp-content/uploads/2020/01/p1-oishinbo-a-20140520-870x635-485x354.jpg 485w, https://media.topito.com/wp-content/uploads/2020/01/p1-oishinbo-a-20140520-870x635.jpg 870w\" height=\"438\" loading=\"lazy\" sizes=\"(max-width: 600px) 100vw, 600px\" src=\"\" srcset=\"\" width=\"600\"/></figure>\n",
       " </div>,\n",
       " <div class=\"item\">\n",
       " <h2 class=\"item-title\">9. <a href=\"https://amzn.to/2vYwiW1\" target=\"_blank\">Slam Dunk</a> (126 millions de ventes)</h2>\n",
       " <p>Manga de sport numéro 1 sur cette planète. Avec Kuroko no Basket aussi. Et Eyeshield 21. Et Ippo. Aaaaah je ne peux pas choisir. Mais contrairement aux autres mastodontes de ce top, Slam Dunk ce n’est « que » 31 tomes. Donc, même avec du retard, tu peux t’y mettre.</p>\n",
       " <figure class=\"ziofix-credit\"><img alt=\"\" class=\"attachment-600x size-600x lazyload\" data-src=\"https://media.topito.com/wp-content/uploads/2020/01/Slam-Dunk-manga.jpg\" data-srcset=\"https://media.topito.com/wp-content/uploads/2020/01/Slam-Dunk-manga.jpg 568w, https://media.topito.com/wp-content/uploads/2020/01/Slam-Dunk-manga-300x238.jpg 300w, https://media.topito.com/wp-content/uploads/2020/01/Slam-Dunk-manga-485x384.jpg 485w\" height=\"450\" loading=\"lazy\" sizes=\"(max-width: 568px) 100vw, 568px\" src=\"\" srcset=\"\" width=\"568\"/></figure>\n",
       " </div>,\n",
       " <div class=\"item\">\n",
       " <h2 class=\"item-title\">10. <a href=\"https://amzn.to/2S4k46Q\" target=\"_blank\">Bleach</a> (120 millions de ventes)</h2>\n",
       " <p>Bien heureux de voir mon ancien amour dans ce top. Bleach, c’est un style de dessin magnifique et épuré, surement un des plus beaux de l’univers des mangas. Bleach, c’est le manga qui te donnera envie d’acheter un maximum de sabres.</p>\n",
       " <figure class=\"ziofix-credit\"><img alt=\"\" class=\"attachment-600x size-600x lazyload\" data-src=\"https://media.topito.com/wp-content/uploads/2020/01/d9c4547a8c7535b2de078497beba8ebf-600x412.jpg\" data-srcset=\"https://media.topito.com/wp-content/uploads/2020/01/d9c4547a8c7535b2de078497beba8ebf-600x412.jpg 600w, https://media.topito.com/wp-content/uploads/2020/01/d9c4547a8c7535b2de078497beba8ebf-300x206.jpg 300w, https://media.topito.com/wp-content/uploads/2020/01/d9c4547a8c7535b2de078497beba8ebf-1024x702.jpg 1024w, https://media.topito.com/wp-content/uploads/2020/01/d9c4547a8c7535b2de078497beba8ebf-768x527.jpg 768w, https://media.topito.com/wp-content/uploads/2020/01/d9c4547a8c7535b2de078497beba8ebf-485x333.jpg 485w, https://media.topito.com/wp-content/uploads/2020/01/d9c4547a8c7535b2de078497beba8ebf.jpg 1200w\" height=\"412\" loading=\"lazy\" sizes=\"(max-width: 600px) 100vw, 600px\" src=\"\" srcset=\"\" width=\"600\"/></figure>\n",
       " </div>]"
      ]
     },
     "execution_count": 71,
     "metadata": {},
     "output_type": "execute_result"
    }
   ],
   "source": [
    "# Trouve les items et les sauvegardes dans une liste (items)\n",
    "items = soup.find(\"div\", class_=\"items\").find_all(\"div\", class_=\"item\")\n",
    "items"
   ]
  },
  {
   "cell_type": "code",
   "execution_count": 60,
   "metadata": {},
   "outputs": [],
   "source": [
    "df = pd.DataFrame(columns=[\"name\",\"url_img\", \"nb_sold\"])"
   ]
  },
  {
   "cell_type": "code",
   "execution_count": 61,
   "metadata": {},
   "outputs": [
    {
     "name": "stdout",
     "output_type": "stream",
     "text": [
      "{'name': 'https://media.topito.com/wp-content/uploads/2020/01/one-20piece-20serie-20hollywood-59722f8294597-600x330.png', 'url_img': 'One Piece', 'nb_sold': 460}\n",
      "{'name': 'https://media.topito.com/wp-content/uploads/2020/01/Yamcha_Reincarnated_vs_Vegeta-3-1280x720-600x338.png', 'url_img': 'Dragon Ball', 'nb_sold': 300}\n",
      "{'name': 'https://media.topito.com/wp-content/uploads/2020/01/golgo2-600x433.jpg', 'url_img': 'Golgo 13', 'nb_sold': 280}\n",
      "{'name': 'https://media.topito.com/wp-content/uploads/2020/01/957959007feab1cf29807db55bc92caf.png', 'url_img': 'Naruto', 'nb_sold': 250}\n",
      "{'name': 'https://media.topito.com/wp-content/uploads/2020/01/9240_t8-600x461.jpg', 'url_img': 'Détective Conan', 'nb_sold': 230}\n",
      "{'name': 'https://media.topito.com/wp-content/uploads/2020/01/PlancheA_33673-600x461.jpg', 'url_img': 'Black Jack', 'nb_sold': 176}\n",
      "{'name': 'https://media.topito.com/wp-content/uploads/2020/01/p1-oishinbo-a-20140520-870x635-600x438.jpg', 'url_img': 'Oishinbo', 'nb_sold': 130}\n",
      "{'name': 'https://media.topito.com/wp-content/uploads/2020/01/Slam-Dunk-manga.jpg', 'url_img': 'Slam Dunk', 'nb_sold': 126}\n",
      "{'name': 'https://media.topito.com/wp-content/uploads/2020/01/d9c4547a8c7535b2de078497beba8ebf-600x412.jpg', 'url_img': 'Bleach', 'nb_sold': 120}\n"
     ]
    }
   ],
   "source": [
    "for item in items:\n",
    "    if item.find(\"a\"):\n",
    "        url = item.find(\"img\").get(\"data-src\")\n",
    "        str_nb_sold = str.split(item.find(\"h2\").getText(),\"(\")\n",
    "        nb_sold = int(str.split(str_nb_sold[1],\" \")[0])\n",
    "        name = item.find(\"a\").getText()\n",
    "        print(Manga.to_dict(url, name, nb_sold))\n",
    "        df = df.append(Manga.to_dict(url_img=url, name=name, nb_sold=nb_sold), ignore_index=True)"
   ]
  },
  {
   "cell_type": "code",
   "execution_count": 62,
   "metadata": {},
   "outputs": [
    {
     "data": {
      "text/html": [
       "<div>\n",
       "<style scoped>\n",
       "    .dataframe tbody tr th:only-of-type {\n",
       "        vertical-align: middle;\n",
       "    }\n",
       "\n",
       "    .dataframe tbody tr th {\n",
       "        vertical-align: top;\n",
       "    }\n",
       "\n",
       "    .dataframe thead th {\n",
       "        text-align: right;\n",
       "    }\n",
       "</style>\n",
       "<table border=\"1\" class=\"dataframe\">\n",
       "  <thead>\n",
       "    <tr style=\"text-align: right;\">\n",
       "      <th></th>\n",
       "      <th>name</th>\n",
       "      <th>url_img</th>\n",
       "      <th>nb_sold</th>\n",
       "    </tr>\n",
       "  </thead>\n",
       "  <tbody>\n",
       "    <tr>\n",
       "      <th>0</th>\n",
       "      <td>One Piece</td>\n",
       "      <td>https://media.topito.com/wp-content/uploads/20...</td>\n",
       "      <td>460</td>\n",
       "    </tr>\n",
       "    <tr>\n",
       "      <th>1</th>\n",
       "      <td>Dragon Ball</td>\n",
       "      <td>https://media.topito.com/wp-content/uploads/20...</td>\n",
       "      <td>300</td>\n",
       "    </tr>\n",
       "    <tr>\n",
       "      <th>2</th>\n",
       "      <td>Golgo 13</td>\n",
       "      <td>https://media.topito.com/wp-content/uploads/20...</td>\n",
       "      <td>280</td>\n",
       "    </tr>\n",
       "    <tr>\n",
       "      <th>3</th>\n",
       "      <td>Naruto</td>\n",
       "      <td>https://media.topito.com/wp-content/uploads/20...</td>\n",
       "      <td>250</td>\n",
       "    </tr>\n",
       "    <tr>\n",
       "      <th>4</th>\n",
       "      <td>Détective Conan</td>\n",
       "      <td>https://media.topito.com/wp-content/uploads/20...</td>\n",
       "      <td>230</td>\n",
       "    </tr>\n",
       "  </tbody>\n",
       "</table>\n",
       "</div>"
      ],
      "text/plain": [
       "              name                                            url_img nb_sold\n",
       "0        One Piece  https://media.topito.com/wp-content/uploads/20...     460\n",
       "1      Dragon Ball  https://media.topito.com/wp-content/uploads/20...     300\n",
       "2         Golgo 13  https://media.topito.com/wp-content/uploads/20...     280\n",
       "3           Naruto  https://media.topito.com/wp-content/uploads/20...     250\n",
       "4  Détective Conan  https://media.topito.com/wp-content/uploads/20...     230"
      ]
     },
     "execution_count": 62,
     "metadata": {},
     "output_type": "execute_result"
    }
   ],
   "source": [
    "df.head()"
   ]
  },
  {
   "cell_type": "code",
   "execution_count": 69,
   "metadata": {},
   "outputs": [],
   "source": [
    "df = df.sort_values(by=[\"nb_sold\"] ,ascending=True)"
   ]
  },
  {
   "cell_type": "code",
   "execution_count": 70,
   "metadata": {},
   "outputs": [
    {
     "data": {
      "image/png": "[encoded data removed]",
      "text/plain": [
       "<Figure size 432x288 with 1 Axes>"
      ]
     },
     "metadata": {
      "needs_background": "light"
     },
     "output_type": "display_data"
    }
   ],
   "source": [
    "df.plot.bar(x=\"name\", y=\"nb_sold\", rot=70, title=\"Les mangas les plus vendus\")\n",
    "\n",
    "plot.show(block=True)"
   ]
  },
  {
   "cell_type": "code",
   "execution_count": null,
   "metadata": {},
   "outputs": [],
   "source": []
  }
 ],
 "metadata": {
  "interpreter": {
   "hash": "31f2aee4e71d21fbe5cf8b01ff0e069b9275f58929596ceb00d14d90e3e16cd6"
  },
  "kernelspec": {
   "display_name": "Python 3.8.10 64-bit",
   "name": "python3"
  },
  "language_info": {
   "codemirror_mode": {
    "name": "ipython",
    "version": 3
   },
   "file_extension": ".py",
   "mimetype": "text/x-python",
   "name": "python",
   "nbconvert_exporter": "python",
   "pygments_lexer": "ipython3",
   "version": "3.8.10"
  },
  "orig_nbformat": 4
 },
 "nbformat": 4,
 "nbformat_minor": 2
}
